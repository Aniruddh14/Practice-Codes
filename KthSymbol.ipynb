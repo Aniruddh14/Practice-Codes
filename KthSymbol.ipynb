{
  "nbformat": 4,
  "nbformat_minor": 0,
  "metadata": {
    "colab": {
      "name": "KthSymbol.ipynb",
      "provenance": [],
      "collapsed_sections": [],
      "authorship_tag": "ABX9TyN1LQ7h448q/k8BlvrQCsP6",
      "include_colab_link": true
    },
    "kernelspec": {
      "name": "python3",
      "display_name": "Python 3"
    },
    "language_info": {
      "name": "python"
    }
  },
  "cells": [
    {
      "cell_type": "markdown",
      "metadata": {
        "id": "view-in-github",
        "colab_type": "text"
      },
      "source": [
        "<a href=\"https://colab.research.google.com/github/Aniruddh14/Practice-Codes/blob/main/KthSymbol.ipynb\" target=\"_parent\"><img src=\"https://colab.research.google.com/assets/colab-badge.svg\" alt=\"Open In Colab\"/></a>"
      ]
    },
    {
      "cell_type": "code",
      "execution_count": 4,
      "metadata": {
        "colab": {
          "base_uri": "https://localhost:8080/"
        },
        "id": "yViDvBmXJb92",
        "outputId": "c1af36cc-4775-4f3d-b823-e38ad75ea866"
      },
      "outputs": [
        {
          "output_type": "stream",
          "name": "stdout",
          "text": [
            "1\n"
          ]
        }
      ],
      "source": [
        "def solve(n,k) :\n",
        "  if k==1 and n==1 :\n",
        "    return 0\n",
        "  mid=(2**(n-1))/2\n",
        "  if(k<=mid) :\n",
        "    return solve(n-1,k)\n",
        "  else :\n",
        "    return 1-solve(n-1,k-mid)\n",
        "\n",
        "print(solve(3,2))"
      ]
    },
    {
      "cell_type": "code",
      "source": [
        ""
      ],
      "metadata": {
        "colab": {
          "base_uri": "https://localhost:8080/"
        },
        "id": "jdiu95u8Lpnd",
        "outputId": "9abcd7a2-6589-42f1-a852-d5f7a599cac9"
      },
      "execution_count": 5,
      "outputs": [
        {
          "output_type": "stream",
          "name": "stdout",
          "text": [
            "['/bin/bash: a: command not found']\n"
          ]
        }
      ]
    }
  ]
}