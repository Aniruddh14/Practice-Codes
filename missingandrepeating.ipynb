{
  "nbformat": 4,
  "nbformat_minor": 0,
  "metadata": {
    "colab": {
      "name": "missingandrepeating.ipynb",
      "provenance": [],
      "authorship_tag": "ABX9TyOwc65stomvPWkJ+nTyp8tW",
      "include_colab_link": true
    },
    "kernelspec": {
      "name": "python3",
      "display_name": "Python 3"
    },
    "language_info": {
      "name": "python"
    }
  },
  "cells": [
    {
      "cell_type": "markdown",
      "metadata": {
        "id": "view-in-github",
        "colab_type": "text"
      },
      "source": [
        "<a href=\"https://colab.research.google.com/github/Aniruddh14/Practice-Codes/blob/main/missingandrepeating.ipynb\" target=\"_parent\"><img src=\"https://colab.research.google.com/assets/colab-badge.svg\" alt=\"Open In Colab\"/></a>"
      ]
    },
    {
      "cell_type": "code",
      "metadata": {
        "colab": {
          "base_uri": "https://localhost:8080/"
        },
        "id": "RcezqoRyATUL",
        "outputId": "7e847575-b199-4d46-9860-b645a3617345"
      },
      "source": [
        "a = [1,1,4,2,5,6]\n",
        "for i in range(len(a)) :\n",
        "  if a[abs(a[i])-1]>0 :\n",
        "    a[abs(a[i])-1]=-a[abs(a[i])-1]\n",
        "  else :\n",
        "    print(\"Repeating no is : \",abs(a[i]))\n",
        "\n"
      ],
      "execution_count": null,
      "outputs": [
        {
          "output_type": "stream",
          "text": [
            "Repeating no is :  1\n",
            "Missing no is : 3\n"
          ],
          "name": "stdout"
        }
      ]
    },
    {
      "cell_type": "code",
      "metadata": {
        "colab": {
          "base_uri": "https://localhost:8080/"
        },
        "id": "3DPyq6HCdqMr",
        "outputId": "878faa17-96db-4e2b-9d6f-acfc86fd7fb6"
      },
      "source": [
        "global x,y\n",
        "x=0\n",
        "y=0\n",
        "a = [7,3,4,5,5,6,2]\n",
        "xor1=a[0]\n",
        "for i in range(1,len(a)) :\n",
        "  xor1=xor1^a[i]\n",
        "for i in range(len(a)) :\n",
        "  xor1=xor1^(i+1)\n",
        "set_bit_no = xor1 & ~(xor1 - 1)\n",
        "for i in range(len(a)) :\n",
        "  if (a[i] & set_bit_no)!=0 :\n",
        "    x=x^a[i]\n",
        "  else :\n",
        "    y=y^a[i]\n",
        "for i in range(1,len(a)+1) :\n",
        "  if (i & set_bit_no)!=0 :\n",
        "    x=x^i\n",
        "  else :\n",
        "    y=y^i\n",
        "print(x,y)"
      ],
      "execution_count": null,
      "outputs": [
        {
          "output_type": "stream",
          "text": [
            "5 1\n"
          ],
          "name": "stdout"
        }
      ]
    },
    {
      "cell_type": "code",
      "metadata": {
        "id": "wcmiwPOiifhC",
        "colab": {
          "base_uri": "https://localhost:8080/"
        },
        "outputId": "f7540465-8b74-4dc9-bf6b-4caa1ffc3a88"
      },
      "source": [
        "def misre(a,n):\n",
        "  \n",
        "  ar=[0 for i in range(n+1)]\n",
        "  for i in range(n):\n",
        "    ar[a[i]]+=1\n",
        "  for i in range(1,len(ar)):\n",
        "    if ar[i]>1 :\n",
        "      print(\"repeating ele: \",i)\n",
        "    if ar[i]==0 :\n",
        "      print(\"missing ele: \",i)\n",
        "\n",
        "a=[4,3,5,6,2,1,1]\n",
        "n=7\n",
        "misre(a,n) \n"
      ],
      "execution_count": null,
      "outputs": [
        {
          "output_type": "stream",
          "name": "stdout",
          "text": [
            "repeating ele:  1\n",
            "missing ele:  7\n"
          ]
        }
      ]
    },
    {
      "cell_type": "code",
      "source": [
        "def repmi(a):\n",
        "  s1=p1=0\n",
        "  n=len(a)\n",
        "  S=(n*(n+1))/2\n",
        "  P=(n*(n+1)*(2*n+1))/6\n",
        "  for i in range(n) :\n",
        "    S-=a[i]\n",
        "    P-=a[i]*a[i]\n",
        "  Miss=(S+P/S)/2\n",
        "  Re=Miss-S\n",
        "  print(Miss,Re)\n",
        "\n",
        "a=[1,2,3,3]\n",
        "repmi(a)\n"
      ],
      "metadata": {
        "colab": {
          "base_uri": "https://localhost:8080/"
        },
        "id": "5pqOLbJu6iWR",
        "outputId": "6c42ece5-246c-4570-9902-d1850d9cea1b"
      },
      "execution_count": null,
      "outputs": [
        {
          "output_type": "stream",
          "name": "stdout",
          "text": [
            "4.0 3.0\n"
          ]
        }
      ]
    }
  ]
}