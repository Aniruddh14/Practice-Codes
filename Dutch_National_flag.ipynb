{
  "nbformat": 4,
  "nbformat_minor": 0,
  "metadata": {
    "colab": {
      "name": "Dutch National flag.ipynb",
      "provenance": [],
      "authorship_tag": "ABX9TyNEC8WSu5U+6rXNDA8dfjbA",
      "include_colab_link": true
    },
    "kernelspec": {
      "name": "python3",
      "display_name": "Python 3"
    },
    "language_info": {
      "name": "python"
    }
  },
  "cells": [
    {
      "cell_type": "markdown",
      "metadata": {
        "id": "view-in-github",
        "colab_type": "text"
      },
      "source": [
        "<a href=\"https://colab.research.google.com/github/Aniruddh14/Practice-Codes/blob/main/Dutch_National_flag.ipynb\" target=\"_parent\"><img src=\"https://colab.research.google.com/assets/colab-badge.svg\" alt=\"Open In Colab\"/></a>"
      ]
    },
    {
      "cell_type": "code",
      "metadata": {
        "colab": {
          "base_uri": "https://localhost:8080/"
        },
        "id": "3sWvMz4yjDz6",
        "outputId": "348402d5-b7f1-4f12-adc5-6e4c634357dd"
      },
      "source": [
        "a = [0,1,1,0,1,2,1,2,0,0,0,1]\n",
        "low=mid=0\n",
        "high=len(a)-1\n",
        "while mid<=high :\n",
        "  if a[mid]==0 :\n",
        "    a[low],a[mid]=a[mid],a[low]\n",
        "    mid+=1\n",
        "    low+=1\n",
        "  elif a[mid]==1 :\n",
        "    mid+=1\n",
        "  elif a[mid]==2:\n",
        "    a[mid],a[high]=a[high],a[mid]\n",
        "    high-=1\n",
        "print(a)"
      ],
      "execution_count": null,
      "outputs": [
        {
          "output_type": "stream",
          "text": [
            "[0, 0, 0, 0, 0, 1, 1, 1, 1, 1, 2, 2]\n"
          ],
          "name": "stdout"
        }
      ]
    }
  ]
}