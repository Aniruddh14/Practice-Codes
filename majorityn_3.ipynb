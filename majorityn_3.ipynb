{
  "nbformat": 4,
  "nbformat_minor": 0,
  "metadata": {
    "colab": {
      "name": "majorityn/3.ipynb",
      "provenance": [],
      "authorship_tag": "ABX9TyMFrotXkcKvTYp9L9aTCmNC",
      "include_colab_link": true
    },
    "kernelspec": {
      "name": "python3",
      "display_name": "Python 3"
    },
    "language_info": {
      "name": "python"
    }
  },
  "cells": [
    {
      "cell_type": "markdown",
      "metadata": {
        "id": "view-in-github",
        "colab_type": "text"
      },
      "source": [
        "<a href=\"https://colab.research.google.com/github/Aniruddh14/Practice-Codes/blob/main/majorityn_3.ipynb\" target=\"_parent\"><img src=\"https://colab.research.google.com/assets/colab-badge.svg\" alt=\"Open In Colab\"/></a>"
      ]
    },
    {
      "cell_type": "code",
      "metadata": {
        "colab": {
          "base_uri": "https://localhost:8080/"
        },
        "id": "ZMyQqXg-k6pF",
        "outputId": "4c93dbb1-495a-40cb-f263-9e4ff5186277"
      },
      "source": [
        "def major1(b) :\n",
        "  c1=c2=ele1=ele2=0\n",
        "  for i in range(len(b)) :\n",
        "    if b[i]==ele1 : c1+=1\n",
        "    elif b[i]==ele2 : c2+=1\n",
        "    elif c1==0 :\n",
        "      ele1=b[i]\n",
        "      c1=1\n",
        "    elif c2==0 :\n",
        "      ele2=b[i]\n",
        "      c2=1\n",
        "    else :\n",
        "      c1-=1\n",
        "      c2-=1\n",
        "  return ele1,ele2\n",
        "\n",
        "\n",
        "\n",
        "c=[1,1,1,3,3,2,2,2]\n",
        "n=len(c)\n",
        "res=major1(c)\n",
        "if c.count(res[0])>n//3 and c.count(res[1])>n//3 :\n",
        "  print(res)\n",
        "elif c.count(res[0])>n//3 :\n",
        "  print(res[0])\n",
        "elif c.count(res[1])>n//3 :\n",
        "  print(res[1])\n",
        "else :\n",
        "  print(\"none\")"
      ],
      "execution_count": null,
      "outputs": [
        {
          "output_type": "stream",
          "text": [
            "(1, 2)\n"
          ],
          "name": "stdout"
        }
      ]
    }
  ]
}