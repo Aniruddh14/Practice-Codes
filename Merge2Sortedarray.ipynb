{
  "nbformat": 4,
  "nbformat_minor": 0,
  "metadata": {
    "colab": {
      "name": "Merge2Sortedarray.ipynb",
      "provenance": [],
      "authorship_tag": "ABX9TyOG117T3ExPnCzP/AfK0pze",
      "include_colab_link": true
    },
    "kernelspec": {
      "name": "python3",
      "display_name": "Python 3"
    },
    "language_info": {
      "name": "python"
    }
  },
  "cells": [
    {
      "cell_type": "markdown",
      "metadata": {
        "id": "view-in-github",
        "colab_type": "text"
      },
      "source": [
        "<a href=\"https://colab.research.google.com/github/Aniruddh14/Practice-Codes/blob/main/Merge2Sortedarray.ipynb\" target=\"_parent\"><img src=\"https://colab.research.google.com/assets/colab-badge.svg\" alt=\"Open In Colab\"/></a>"
      ]
    },
    {
      "cell_type": "markdown",
      "source": [
        "Simple Method"
      ],
      "metadata": {
        "id": "Jif18mii1G9i"
      }
    },
    {
      "cell_type": "code",
      "execution_count": null,
      "metadata": {
        "colab": {
          "base_uri": "https://localhost:8080/"
        },
        "id": "EKV2TypwJ61X",
        "outputId": "4fc94029-a144-4500-ffd7-ba50784e19d1"
      },
      "outputs": [
        {
          "output_type": "stream",
          "name": "stdout",
          "text": [
            "[1, 2, 7, 8, 10] [4, 3, 9]\n",
            "[1, 2, 7, 8, 10] [4, 3, 9]\n",
            "[1, 2, 4, 8, 10] [3, 7, 9]\n",
            "[1, 2, 4, 3, 10] [7, 8, 9]\n",
            "[1, 2, 4, 3, 7] [8, 9, 10]\n"
          ]
        }
      ],
      "source": [
        "def mer(a1,a2) :\n",
        "  n=len(a1)\n",
        "  k=0\n",
        "  for i in range(n) :\n",
        "    if a1[i]>a2[k] :\n",
        "      a1[i],a2[k]=a2[k],a1[i]\n",
        "      a2.sort()\n",
        "a1=[1,2,7,8,10]\n",
        "a2=[4,3,9]\n",
        "mer(a1,a2)"
      ]
    },
    {
      "cell_type": "markdown",
      "source": [
        "Gap Method"
      ],
      "metadata": {
        "id": "lduYOzaz1LZN"
      }
    },
    {
      "cell_type": "code",
      "source": [
        "import math as ma\n",
        "def gapme(a1,a2,n,m):\n",
        "  gap=ma.ceil((m+n/2))\n",
        "  while gap>0 :\n",
        "    i=0\n",
        "    j=gap\n",
        "    while j<(m+n) :\n",
        "      if j<n and a1[i]>a1[j] :\n",
        "        a1[i],a1[j]=a1[j],a1[i]\n",
        "      elif j>=n and i<n and a1[i]>a2[j-n] :\n",
        "        a1[i],a2[j-n]=a2[j-n],a1[i]\n",
        "      elif j>=n and i>=n and a2[i-n]>a2[j-n] :\n",
        "        a2[i-n],a2[j-n]=a2[j-n],a2[i-n]\n",
        "      i+=1\n",
        "      j+=1\n",
        "    if gap==1:\n",
        "      gap=0\n",
        "    else :\n",
        "      gap=ma.ceil(gap/2)\n",
        "  print(a1,a2)\n",
        "a1=[1,4,7,8,10]\n",
        "a2=[2,3,9]\n",
        "gapme(a1,a2,len(a1),len(a2))\n"
      ],
      "metadata": {
        "colab": {
          "base_uri": "https://localhost:8080/"
        },
        "id": "m2v72GWX0hbV",
        "outputId": "95e2e7e5-ab4b-48ef-d23f-40476162da30"
      },
      "execution_count": null,
      "outputs": [
        {
          "output_type": "stream",
          "name": "stdout",
          "text": [
            "[1, 2, 3, 4, 7] [8, 9, 10]\n"
          ]
        }
      ]
    }
  ]
}