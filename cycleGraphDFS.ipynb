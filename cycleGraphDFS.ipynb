{
  "nbformat": 4,
  "nbformat_minor": 0,
  "metadata": {
    "colab": {
      "name": "cycleGraphDFS.ipynb",
      "provenance": [],
      "authorship_tag": "ABX9TyOYcCx0GrLV3PYXxGAu6SVD",
      "include_colab_link": true
    },
    "kernelspec": {
      "name": "python3",
      "display_name": "Python 3"
    },
    "language_info": {
      "name": "python"
    }
  },
  "cells": [
    {
      "cell_type": "markdown",
      "metadata": {
        "id": "view-in-github",
        "colab_type": "text"
      },
      "source": [
        "<a href=\"https://colab.research.google.com/github/Aniruddh14/Practice-Codes/blob/main/cycleGraphDFS.ipynb\" target=\"_parent\"><img src=\"https://colab.research.google.com/assets/colab-badge.svg\" alt=\"Open In Colab\"/></a>"
      ]
    },
    {
      "cell_type": "code",
      "execution_count": 6,
      "metadata": {
        "colab": {
          "base_uri": "https://localhost:8080/"
        },
        "id": "S5tF0hePpt08",
        "outputId": "04c72087-1299-42eb-9699-aea500bb1253"
      },
      "outputs": [
        {
          "output_type": "stream",
          "name": "stdout",
          "text": [
            "False\n"
          ]
        }
      ],
      "source": [
        "def cycleDFS(node,prev,adjl,vis) :\n",
        "  vis[node]=1\n",
        "  for it in adjl[node] :\n",
        "    if vis[it]==0 :\n",
        "      if cycleDFS(it,node,adjl,vis)== True :\n",
        "        return True\n",
        "    elif it!=prev :\n",
        "      return True\n",
        "  return False\n",
        "\n",
        "\n",
        "def isCycle(n,adjl) :\n",
        "  vis=[0 for i in range(n+1)]\n",
        "  for i in range(1,n+1) :\n",
        "    if vis[i]==0 :\n",
        "      if cycleDFS(i,-1,adjl,vis)==True :\n",
        "        return True\n",
        "  return False\n",
        "n=3\n",
        "adjl=[[],[2],[1,3],[2]]\n",
        "print(isCycle(n,adjl))"
      ]
    }
  ]
}